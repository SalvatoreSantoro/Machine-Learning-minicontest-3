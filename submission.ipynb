{
 "cells": [
  {
   "cell_type": "code",
   "execution_count": 8,
   "metadata": {},
   "outputs": [],
   "source": [
    "import torch\n",
    "import torch.nn as nn\n",
    "from torchvision.models import densenet161\n",
    "from torchvision import transforms\n",
    "from torch.utils.data import Dataset, DataLoader\n",
    "import numpy as np\n",
    "import pandas as pd\n",
    "import os"
   ]
  },
  {
   "cell_type": "code",
   "execution_count": 9,
   "metadata": {},
   "outputs": [
    {
     "name": "stdout",
     "output_type": "stream",
     "text": [
      "2.3.0\n",
      "True\n",
      "NVIDIA GeForce RTX 2060\n",
      "cuda:0\n"
     ]
    }
   ],
   "source": [
    "print(torch.__version__)\n",
    "print(torch.cuda.is_available())\n",
    "print(torch.cuda.get_device_name(0))\n",
    "device = torch.device(\"cuda:0\" if torch.cuda.is_available() else \"cpu\")\n",
    "print(device)"
   ]
  },
  {
   "cell_type": "code",
   "execution_count": 10,
   "metadata": {},
   "outputs": [],
   "source": [
    "class ImageDataset(Dataset):\n",
    "    def __init__(self, root,  transform, is_valid_file):\n",
    "        self.root = root\n",
    "        self.transform = transform\n",
    "        self.is_valid_file = is_valid_file\n",
    "        self.samples = self.__get_samples()\n",
    "\n",
    "    def __len__(self):\n",
    "        return len(self.samples)\n",
    "\n",
    "    def __get_samples(self):\n",
    "        ListFiles=[]\n",
    "        listofFiles = os.listdir(self.root)\n",
    "        \n",
    "        listofFiles.sort(key=lambda x: int(x.split('.')[0]))\n",
    "\n",
    "        for file in listofFiles:\n",
    "            ListFiles.append(self.root + '/' + file)\n",
    "        return ListFiles\n",
    "\n",
    "    def loader_fc(self, path):\n",
    "        img = np.load(path)\n",
    "        return img\n",
    "\n",
    "    def __getitem__(self, index: int):\n",
    "        path = self.samples[index]\n",
    "        sample = self.loader_fc(path)\n",
    "        if self.transform is not None:\n",
    "            sample = self.transform(sample)\n",
    "        return sample"
   ]
  },
  {
   "cell_type": "code",
   "execution_count": 11,
   "metadata": {},
   "outputs": [],
   "source": [
    "class MinMaxNormalize(object):\n",
    "    def __init__(self, min_val=0.0, max_val=1.0):\n",
    "        self.min_val = min_val\n",
    "        self.max_val = max_val\n",
    "\n",
    "    def __call__(self, tensor):\n",
    "        min_tensor = tensor.min()\n",
    "        max_tensor = tensor.max()\n",
    "        normalized_tensor = (tensor - min_tensor) / (max_tensor - min_tensor)\n",
    "        normalized_tensor = normalized_tensor * (self.max_val - self.min_val) + self.min_val\n",
    "        return normalized_tensor\n",
    "\n",
    "data_transforms =  transforms.Compose([\n",
    "        transforms.ToTensor(),\n",
    "        transforms.ConvertImageDtype(torch.float32),\n",
    "        MinMaxNormalize(min_val=0.0, max_val=1.0),\n",
    "        transforms.Resize(224),\n",
    "        transforms.Normalize([0.485, 0.456, 0.406], [0.229, 0.224, 0.225])\n",
    "    ])"
   ]
  },
  {
   "cell_type": "code",
   "execution_count": 12,
   "metadata": {},
   "outputs": [],
   "source": [
    "path = \"./data/test/test\"\n",
    "\n",
    "test_dataset = ImageDataset(root = path,\n",
    "                    transform = data_transforms,\n",
    "                    is_valid_file = True)\n",
    "\n",
    "dataloader = DataLoader(test_dataset,\n",
    "                    batch_size=1,\n",
    "                    shuffle=False,\n",
    "                    num_workers=0,\n",
    "                    pin_memory=True)\n",
    "\n",
    "dataset_size = len(test_dataset)"
   ]
  },
  {
   "cell_type": "code",
   "execution_count": 14,
   "metadata": {},
   "outputs": [
    {
     "data": {
      "text/plain": [
       "<All keys matched successfully>"
      ]
     },
     "execution_count": 14,
     "metadata": {},
     "output_type": "execute_result"
    }
   ],
   "source": [
    "model = densenet161()\n",
    "num_features = model.classifier.in_features\n",
    "\n",
    "model.classifier = nn.Sequential(nn.Dropout(0.3),\n",
    "                                 nn.Linear(num_features, 2))\n",
    "\n",
    "model.to(device)\n",
    "model.load_state_dict(torch.load(os.path.join(\".\", \"models\", \"submit_model_params.pt\")))\n"
   ]
  },
  {
   "cell_type": "code",
   "execution_count": 16,
   "metadata": {},
   "outputs": [],
   "source": [
    "model.eval()\n",
    "\n",
    "y_pred = torch.tensor([], device=device)\n",
    "with torch.inference_mode():\n",
    "    for file in dataloader:\n",
    "        file = file.to(device)\n",
    "        \n",
    "        outputs = model(file)\n",
    "\n",
    "        _, preds = torch.max(outputs, 1)\n",
    "        y_pred = torch.hstack((y_pred, preds))\n",
    "\n",
    "y_pred = y_pred.cpu().numpy()\n",
    "y_pred = y_pred.tolist()"
   ]
  },
  {
   "cell_type": "code",
   "execution_count": 17,
   "metadata": {},
   "outputs": [],
   "source": [
    "test_files = [x.split('/')[-1] for x in test_dataset.samples]\n",
    "\n",
    "preds = []\n",
    "for pred in y_pred:\n",
    "    if pred == 0:\n",
    "        preds.append('benign')\n",
    "    else:\n",
    "        preds.append('malignant')\n",
    "\n",
    "df = pd.DataFrame({'ID': test_files, 'Class': preds})"
   ]
  },
  {
   "cell_type": "code",
   "execution_count": 19,
   "metadata": {},
   "outputs": [],
   "source": [
    "df.to_csv('./submission/submit_densenet161.csv', index=False)"
   ]
  },
  {
   "cell_type": "code",
   "execution_count": null,
   "metadata": {},
   "outputs": [],
   "source": []
  }
 ],
 "metadata": {
  "kernelspec": {
   "display_name": "torch",
   "language": "python",
   "name": "python3"
  },
  "language_info": {
   "codemirror_mode": {
    "name": "ipython",
    "version": 3
   },
   "file_extension": ".py",
   "mimetype": "text/x-python",
   "name": "python",
   "nbconvert_exporter": "python",
   "pygments_lexer": "ipython3",
   "version": "3.12.3"
  }
 },
 "nbformat": 4,
 "nbformat_minor": 2
}
